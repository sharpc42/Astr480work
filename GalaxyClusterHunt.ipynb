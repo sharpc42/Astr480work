{
 "cells": [
  {
   "cell_type": "code",
   "execution_count": 83,
   "metadata": {
    "scrolled": true
   },
   "outputs": [
    {
     "name": "stdout",
     "output_type": "stream",
     "text": [
      "10\n"
     ]
    },
    {
     "data": {
      "text/plain": [
       "[<Row index=713 masked=True>\n",
       "  MAIN_ID      RA      DEC    RA_PREC DEC_PREC COO_ERR_MAJA COO_ERR_MINA COO_ERR_ANGLE COO_QUAL COO_WAVELENGTH     COO_BIBCODE    \n",
       "            \"h:m:s\"  \"d:m:s\"                       mas          mas           deg                                                 \n",
       "   object    str13    str13    int16   int16     float32      float32        int16       str1        str1             object      \n",
       " ---------- -------- -------- ------- -------- ------------ ------------ ------------- -------- -------------- -------------------\n",
       " ACO S  357 03 31 19 -26 05.8       4        4   150000.000   150000.000            90        E                1989ApJS...70....1A,\n",
       " <Row index=781 masked=True>\n",
       "  MAIN_ID      RA      DEC    RA_PREC DEC_PREC COO_ERR_MAJA COO_ERR_MINA COO_ERR_ANGLE COO_QUAL COO_WAVELENGTH     COO_BIBCODE    \n",
       "            \"h:m:s\"  \"d:m:s\"                       mas          mas           deg                                                 \n",
       "   object    str13    str13    int16   int16     float32      float32        int16       str1        str1             object      \n",
       " ---------- -------- -------- ------- -------- ------------ ------------ ------------- -------- -------------- -------------------\n",
       " ACO S  391 03 47 57 -23 31.8       4        4   150000.000   150000.000            90        E                1989ApJS...70....1A,\n",
       " <Row index=827 masked=True>\n",
       "  MAIN_ID      RA      DEC    RA_PREC DEC_PREC COO_ERR_MAJA COO_ERR_MINA COO_ERR_ANGLE COO_QUAL COO_WAVELENGTH     COO_BIBCODE    \n",
       "            \"h:m:s\"  \"d:m:s\"                       mas          mas           deg                                                 \n",
       "   object    str13    str13    int16   int16     float32      float32        int16       str1        str1             object      \n",
       " ---------- -------- -------- ------- -------- ------------ ------------ ------------- -------- -------------- -------------------\n",
       " ACO S  414 04 04 25 -24 18.9       4        4   150000.000   150000.000            90        E                1989ApJS...70....1A,\n",
       " <Row index=836 masked=True>\n",
       "  MAIN_ID       RA         DEC     RA_PREC DEC_PREC COO_ERR_MAJA COO_ERR_MINA COO_ERR_ANGLE COO_QUAL COO_WAVELENGTH     COO_BIBCODE    \n",
       "             \"h:m:s\"     \"d:m:s\"                        mas          mas           deg                                                 \n",
       "   object     str13       str13     int16   int16     float32      float32        int16       str1        str1             object      \n",
       " --------- ----------- ----------- ------- -------- ------------ ------------ ------------- -------- -------------- -------------------\n",
       " ACO   419 03 08 15.85 -23 41 29.0       6        6           --           --             0        D                2002MNRAS.329...87D,\n",
       " <Row index=914 masked=True>\n",
       "  MAIN_ID      RA        DEC    RA_PREC DEC_PREC COO_ERR_MAJA COO_ERR_MINA COO_ERR_ANGLE COO_QUAL COO_WAVELENGTH     COO_BIBCODE    \n",
       "            \"h:m:s\"    \"d:m:s\"                       mas          mas           deg                                                 \n",
       "   object    str13      str13    int16   int16     float32      float32        int16       str1        str1             object      \n",
       " --------- ---------- --------- ------- -------- ------------ ------------ ------------- -------- -------------- -------------------\n",
       " ACO   458 03 45 50.6 -24 16 42       5        5           --           --             0        D                2001ApJ...554L.129M,\n",
       " <Row index=972 masked=True>\n",
       "  MAIN_ID     RA      DEC    RA_PREC DEC_PREC COO_ERR_MAJA COO_ERR_MINA COO_ERR_ANGLE COO_QUAL COO_WAVELENGTH     COO_BIBCODE    \n",
       "           \"h:m:s\"  \"d:m:s\"                       mas          mas           deg                                                 \n",
       "   object   str13    str13    int16   int16     float32      float32        int16       str1        str1             object      \n",
       " --------- -------- -------- ------- -------- ------------ ------------ ------------- -------- -------------- -------------------\n",
       " ACO   487 04 22 48 -24 15.1       4        4   150000.000   150000.000            90        E                1989ApJS...70....1A,\n",
       " <Row index=988 masked=True>\n",
       "  MAIN_ID      RA        DEC    RA_PREC DEC_PREC COO_ERR_MAJA COO_ERR_MINA COO_ERR_ANGLE COO_QUAL COO_WAVELENGTH     COO_BIBCODE    \n",
       "            \"h:m:s\"    \"d:m:s\"                       mas          mas           deg                                                 \n",
       "   object    str13      str13    int16   int16     float32      float32        int16       str1        str1             object      \n",
       " --------- ---------- --------- ------- -------- ------------ ------------ ------------- -------- -------------- -------------------\n",
       " ACO   495 04 29 58.1 -26 24 04       5        5           --           --             0        D                1997MNRAS.289..263D,\n",
       " <Row index=1020 masked=True>\n",
       "  MAIN_ID      RA        DEC    RA_PREC DEC_PREC COO_ERR_MAJA COO_ERR_MINA COO_ERR_ANGLE COO_QUAL COO_WAVELENGTH     COO_BIBCODE    \n",
       "            \"h:m:s\"    \"d:m:s\"                       mas          mas           deg                                                 \n",
       "   object    str13      str13    int16   int16     float32      float32        int16       str1        str1             object      \n",
       " --------- ---------- --------- ------- -------- ------------ ------------ ------------- -------- -------------- -------------------\n",
       " ACO   511 04 46 46.5 -25 28 29       5        5           --           --             0        D                1997MNRAS.289..263D,\n",
       " <Row index=4260 masked=True>\n",
       "  MAIN_ID       RA         DEC     RA_PREC DEC_PREC COO_ERR_MAJA COO_ERR_MINA COO_ERR_ANGLE COO_QUAL COO_WAVELENGTH     COO_BIBCODE    \n",
       "             \"h:m:s\"     \"d:m:s\"                        mas          mas           deg                                                 \n",
       "   object     str13       str13     int16   int16     float32      float32        int16       str1        str1             object      \n",
       " --------- ----------- ----------- ------- -------- ------------ ------------ ------------- -------- -------------- -------------------\n",
       " ACO  3086 03 04 45.84 -24 38 28.5       6        6           --           --             0        D                2002MNRAS.329...87D,\n",
       " <Row index=4268 masked=True>\n",
       "  MAIN_ID       RA         DEC     RA_PREC DEC_PREC COO_ERR_MAJA COO_ERR_MINA COO_ERR_ANGLE COO_QUAL COO_WAVELENGTH     COO_BIBCODE    \n",
       "             \"h:m:s\"     \"d:m:s\"                        mas          mas           deg                                                 \n",
       "   object     str13       str13     int16   int16     float32      float32        int16       str1        str1             object      \n",
       " --------- ----------- ----------- ------- -------- ------------ ------------ ------------- -------- -------------- -------------------\n",
       " ACO  3094 03 11 25.00 -26 55 52.2       6        6           --           --             0        D                2002MNRAS.329...87D]"
      ]
     },
     "execution_count": 83,
     "metadata": {},
     "output_type": "execute_result"
    }
   ],
   "source": [
    "import numpy as np\n",
    "import scipy as sp\n",
    "import astropy as ap\n",
    "import astroplan as plan\n",
    "import pandas as pd \n",
    "\n",
    "from astroquery.simbad import Simbad\n",
    "\n",
    "clstrCands = Simbad().query_catalog('abell')\n",
    "goodRAclstrs = []\n",
    "\n",
    "for clstr in clstrCands:\n",
    "    try:\n",
    "        raHr = int(clstr['RA'][0:2])\n",
    "        if raHr >= 3 and raHr < 5:\n",
    "            goodRAclstrs.append(clstr)\n",
    "    except:\n",
    "        pass\n",
    "\n",
    "goodDecClstrs = []\n",
    "zenith = -24.67\n",
    "\n",
    "for clstr in goodRAclstrs:\n",
    "    try:\n",
    "        dec = int(clstr['DEC'][0:3]) + int(clstr['DEC'][4:5]) / 60\n",
    "    except:\n",
    "        dec = int(clstr['DEC'][0:2]) + int(clstr['DEC'][3:4]) / 60\n",
    "    if dec <= zenith + 2 and dec >= zenith - 2:\n",
    "        goodDecClstrs.append(clstr)\n",
    "        \n",
    "finalClstrs = []\n",
    "x = 0\n",
    "\n",
    "while x < 10:\n",
    "    try:\n",
    "        finalClstrs.append(goodDecClstrs[x])\n",
    "    except:\n",
    "        pass\n",
    "    x += 1\n",
    "\n",
    "x = 0\n",
    "for clstr in finalClstrs:\n",
    "    x += 1\n",
    "print(x)\n",
    "    \n",
    "finalClstrs"
   ]
  }
 ],
 "metadata": {
  "kernelspec": {
   "display_name": "Python 3",
   "language": "python",
   "name": "python3"
  },
  "language_info": {
   "codemirror_mode": {
    "name": "ipython",
    "version": 3
   },
   "file_extension": ".py",
   "mimetype": "text/x-python",
   "name": "python",
   "nbconvert_exporter": "python",
   "pygments_lexer": "ipython3",
   "version": "3.6.4"
  }
 },
 "nbformat": 4,
 "nbformat_minor": 2
}
